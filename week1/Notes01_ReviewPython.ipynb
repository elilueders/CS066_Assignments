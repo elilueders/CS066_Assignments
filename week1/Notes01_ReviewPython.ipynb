{
 "cells": [
  {
   "cell_type": "markdown",
   "id": "365866b2",
   "metadata": {
    "slideshow": {
     "slide_type": "slide"
    }
   },
   "source": [
    "# Review of Basic Programming with Python\n",
    "#### CS 66: Introduction to Computer Science II"
   ]
  },
  {
   "cell_type": "markdown",
   "id": "8d672df9",
   "metadata": {
    "slideshow": {
     "slide_type": "slide"
    }
   },
   "source": [
    "## Purpose\n",
    "\n",
    "For those with Python experience: review, make you aware of some things you may not have seen before - it will _not_ be exhaustive.\n",
    "\n",
    "For those without Python experience: introduction to Python syntax\n",
    "* It can do most of what you know from Java, Javascript, etc. \n",
    "* Easy-to-pick-up syntax\n",
    "\n",
    "\n",
    "## References for this lecture\n",
    "\n",
    "Problem Solving with Algorithms and Data Structures using Python, Chapter 1: https://runestone.academy/runestone/books/published/pythonds/Introduction/toctree.html\n",
    "\n",
    "Sections 1.1-1.4, 1.7, 1.8, 1.10, 1.12\n",
    "\n",
    "Also see Think Python( https://greenteapress.com/thinkpython2/html/index.html ) for a more exhaustive reference of basic Python\n",
    "\n",
    "A Quick Python tutorial: https://www.programiz.com/python-programming/tutorial"
   ]
  },
  {
   "cell_type": "markdown",
   "id": "37434004",
   "metadata": {
    "slideshow": {
     "slide_type": "slide"
    }
   },
   "source": [
    "## Demo: Running Python\n",
    "\n",
    "Python can be run in either _script mode_ or _interactive mode_\n",
    "\n",
    "My slides and CoCalc activities are written using a _Jupyter Notebook_ mixes _interactive mode_ cells and mark-up/documentation cells"
   ]
  },
  {
   "cell_type": "code",
   "execution_count": null,
   "id": "3a080cfd",
   "metadata": {},
   "outputs": [],
   "source": [
    "print(\"Hello CS66 Students!\")"
   ]
  },
  {
   "cell_type": "markdown",
   "id": "4db98095",
   "metadata": {},
   "source": [
    "Let's see how _script mode_ and _interactive mode_ works in a couple of different IDEs: VS Code and IDLE"
   ]
  },
  {
   "cell_type": "markdown",
   "id": "c5ed5432",
   "metadata": {
    "slideshow": {
     "slide_type": "slide"
    }
   },
   "source": [
    "## Objects\n",
    "\n",
    "Python data items are called __objects__.\n",
    "\n",
    "Examples of _types_ of objects\n",
    "* _atomic_ types like ints, floats, and bools\n",
    "* _collection_ types like lists, strings, dictionaries, tuples, and sets\n",
    "* new types created by defining a new class\n"
   ]
  },
  {
   "cell_type": "markdown",
   "id": "abe900d2",
   "metadata": {
    "slideshow": {
     "slide_type": "slide"
    }
   },
   "source": [
    "## Examples of numerical and logical operations\n",
    "\n",
    "from Activities 1.8.1.1 and 1.8.1.2"
   ]
  },
  {
   "cell_type": "code",
   "execution_count": null,
   "id": "23c02a56",
   "metadata": {},
   "outputs": [],
   "source": [
    "print(2+3*4)\n",
    "print((2+3)*4)\n",
    "print(2**10)   ## ** is the exponent operator\n",
    "print(6/3)\n",
    "print(7/3)\n",
    "print(7//3)    ## integer division\n",
    "print(7%3)     ## remainder (modulo)\n",
    "print(3/6)\n",
    "print(3//6)\n",
    "print(3%6)\n",
    "print(2**100)"
   ]
  },
  {
   "cell_type": "code",
   "execution_count": null,
   "id": "60e9e0bf",
   "metadata": {},
   "outputs": [],
   "source": [
    "print(5==10)\n",
    "print(10 > 5)\n",
    "print((5 >= 1) and (5 <= 10))"
   ]
  },
  {
   "cell_type": "markdown",
   "id": "a8449dac",
   "metadata": {
    "slideshow": {
     "slide_type": "slide"
    }
   },
   "source": [
    "## Variables\n",
    "\n",
    "Assignments of values to variables in Python is done with the `=` operator\n",
    "\n",
    "variables do not need to be declared ahead of time, and their types can change"
   ]
  },
  {
   "cell_type": "code",
   "execution_count": null,
   "id": "bcfca474",
   "metadata": {},
   "outputs": [],
   "source": [
    "x = False\n",
    "print( type(x) )\n",
    "x = 1\n",
    "x = x + 1\n",
    "print( type(x) )\n",
    "print(x)"
   ]
  },
  {
   "cell_type": "markdown",
   "id": "fc06241f",
   "metadata": {
    "slideshow": {
     "slide_type": "slide"
    }
   },
   "source": [
    "## Lists\n",
    "\n",
    "Lists are Python's ordered collection type (some other langauges call them _arrays_)\n",
    "\n",
    "They are _heterogeneous_ - they can have a mix of object types."
   ]
  },
  {
   "cell_type": "code",
   "execution_count": null,
   "id": "a9559425",
   "metadata": {},
   "outputs": [],
   "source": [
    "myList = [1,3,True,6.5]"
   ]
  },
  {
   "cell_type": "markdown",
   "id": "4a600339",
   "metadata": {},
   "source": [
    "Use subscipt notation to access elements by their index. \n",
    "\n",
    "Indices are 0-based"
   ]
  },
  {
   "cell_type": "code",
   "execution_count": null,
   "id": "0cfe8bfd",
   "metadata": {},
   "outputs": [],
   "source": [
    "print(myList[3])\n",
    "myList[0] = \"hi\"\n",
    "print(myList)"
   ]
  },
  {
   "cell_type": "markdown",
   "id": "48ed7821",
   "metadata": {
    "slideshow": {
     "slide_type": "subslide"
    }
   },
   "source": [
    "There are many different built-in functions and methods that work with lists"
   ]
  },
  {
   "cell_type": "code",
   "execution_count": null,
   "id": "7947eed6",
   "metadata": {},
   "outputs": [],
   "source": [
    "myList = [1024, 3, True, 6.5]\n",
    "myList.append(False)  #add on to the end of a list\n",
    "print(myList)"
   ]
  },
  {
   "cell_type": "code",
   "execution_count": null,
   "id": "8147619a",
   "metadata": {},
   "outputs": [],
   "source": [
    "myList.insert(2,4.5)  #put a new value at index 2\n",
    "print(myList)"
   ]
  },
  {
   "cell_type": "code",
   "execution_count": null,
   "id": "48e848d8",
   "metadata": {},
   "outputs": [],
   "source": [
    "print(myList.pop())  #remove and return whatever is at the end\n",
    "print(myList)\n"
   ]
  },
  {
   "cell_type": "code",
   "execution_count": null,
   "id": "167f0aa9",
   "metadata": {},
   "outputs": [],
   "source": [
    "print(myList.pop(1)) #remove and return whatever is at index 1\n",
    "print(myList)\n",
    "myList.pop(2)\n",
    "print(myList)"
   ]
  },
  {
   "cell_type": "code",
   "execution_count": null,
   "id": "563c6c4a",
   "metadata": {},
   "outputs": [],
   "source": [
    "anotherList = [10,2.5,47,1,6.63]\n",
    "anotherList.sort()  #sort the list\n",
    "print(anotherList)"
   ]
  },
  {
   "cell_type": "code",
   "execution_count": null,
   "id": "d3e0d6ba",
   "metadata": {},
   "outputs": [],
   "source": [
    "anotherList = [10,2.5,47,1,6.63]\n",
    "anotherList.reverse()  #reverse the list\n",
    "print(anotherList)"
   ]
  },
  {
   "cell_type": "code",
   "execution_count": null,
   "id": "2c6eba6f",
   "metadata": {},
   "outputs": [],
   "source": [
    "anotherList = [10,47,2.5,47,1,6.63,47]\n",
    "print(anotherList.count(47))   #count how many times 47 appears\n",
    "print(anotherList.index(2.5))  #which index is 2.5 at?"
   ]
  },
  {
   "cell_type": "code",
   "execution_count": null,
   "id": "f5b003cb",
   "metadata": {},
   "outputs": [],
   "source": [
    "print( 42 in anotherList )  #test if 42 is a member of the list"
   ]
  },
  {
   "cell_type": "code",
   "execution_count": null,
   "id": "778f0ab0",
   "metadata": {},
   "outputs": [],
   "source": [
    "anotherList.remove(2.5)  #remove an item by its value\n",
    "print(anotherList)"
   ]
  },
  {
   "cell_type": "code",
   "execution_count": null,
   "id": "1230e88d",
   "metadata": {},
   "outputs": [],
   "source": [
    "#slice the list from index 2 up to (but not including) index 4\n",
    "print( anotherList[2:4] ) "
   ]
  },
  {
   "cell_type": "code",
   "execution_count": null,
   "id": "7ad1da55",
   "metadata": {},
   "outputs": [],
   "source": [
    "print( myList + anotherList ) #concatenate two lists"
   ]
  },
  {
   "cell_type": "code",
   "execution_count": null,
   "id": "95bd87f9",
   "metadata": {},
   "outputs": [],
   "source": [
    "print( len(anotherList) )  #find the length of a list"
   ]
  },
  {
   "cell_type": "markdown",
   "id": "2f6204b8",
   "metadata": {
    "slideshow": {
     "slide_type": "subslide"
    }
   },
   "source": [
    "## Strings and Tuples\n",
    "\n",
    "Strings and Tuples behave much like lists, but they're _immutable_ - they can't be changed"
   ]
  },
  {
   "cell_type": "code",
   "execution_count": null,
   "id": "0d2dce24",
   "metadata": {},
   "outputs": [],
   "source": [
    "myTuple = (2,True,4.96)\n",
    "print( len(myTuple) )\n",
    "print( myTuple[2] )"
   ]
  },
  {
   "cell_type": "code",
   "execution_count": null,
   "id": "95905d31",
   "metadata": {},
   "outputs": [],
   "source": [
    "myTuple[0] = 10 #error because tuples are immutable"
   ]
  },
  {
   "cell_type": "code",
   "execution_count": null,
   "id": "349af913",
   "metadata": {},
   "outputs": [],
   "source": [
    "myString = \"Eric\"\n",
    "print( myString[1] )\n",
    "print( myString.lower() )  #there are many useful string methods"
   ]
  },
  {
   "cell_type": "markdown",
   "id": "05bd0579",
   "metadata": {
    "slideshow": {
     "slide_type": "slide"
    }
   },
   "source": [
    "## While loops\n",
    "\n",
    "Here's an example of the syntax for a Python `while` loop."
   ]
  },
  {
   "cell_type": "code",
   "execution_count": null,
   "id": "294e79cf",
   "metadata": {},
   "outputs": [],
   "source": [
    "counter = 1\n",
    "while counter <= 5:\n",
    "    print(\"Hello, world\")\n",
    "    counter = counter + 1"
   ]
  },
  {
   "cell_type": "markdown",
   "id": "9f046743",
   "metadata": {},
   "source": [
    "In Python, tabs matter! You always tab in any block of code associated with a loop, if-statement, function definition, etc."
   ]
  },
  {
   "cell_type": "markdown",
   "id": "3ca34004",
   "metadata": {
    "slideshow": {
     "slide_type": "slide"
    }
   },
   "source": [
    "## For loops\n",
    "\n",
    "`for` loops can be used to iterate through collections\n",
    "\n",
    "In this example, `day` is the _loop variable_ that takes on the next value in the list with each iteration."
   ]
  },
  {
   "cell_type": "code",
   "execution_count": null,
   "id": "0bf358d8",
   "metadata": {},
   "outputs": [],
   "source": [
    "days_of_the_week = [\"Sunday\",\"Monday\",\"Tuesday\",\"Wednesday\",\"Thursday\",\"Friday\",\"Saturday\"]\n",
    "\n",
    "\n",
    "for day in days_of_the_week:\n",
    "    print(day,\"is a good day for programming\")"
   ]
  },
  {
   "cell_type": "markdown",
   "id": "e53e4e30",
   "metadata": {
    "slideshow": {
     "slide_type": "subslide"
    }
   },
   "source": [
    "## For loops and `range()`\n",
    "\n",
    "For loops are often combined with the `range()` function, which allow it to operate as a count-controlled loop."
   ]
  },
  {
   "cell_type": "code",
   "execution_count": null,
   "id": "5e23119b",
   "metadata": {},
   "outputs": [],
   "source": [
    "for num in range(5):\n",
    "    print(num,\"squared is\",num**2)"
   ]
  },
  {
   "cell_type": "markdown",
   "id": "7b45cb8a",
   "metadata": {
    "slideshow": {
     "slide_type": "fragment"
    }
   },
   "source": [
    "It's also common to use `range()` with `for` loops to iterator through the _indices_ of a list rather than the items of the list."
   ]
  },
  {
   "cell_type": "code",
   "execution_count": null,
   "id": "ec3588e3",
   "metadata": {},
   "outputs": [],
   "source": [
    "days_of_the_week = [\"Sunday\",\"Monday\",\"Tuesday\",\"Wednesday\",\"Thursday\",\"Friday\",\"Saturday\"]\n",
    "\n",
    "\n",
    "for day_num in range(len(days_of_the_week)):\n",
    "    print(days_of_the_week[day_num],\"is a good day for programming\")"
   ]
  },
  {
   "cell_type": "markdown",
   "id": "48a102a1",
   "metadata": {
    "slideshow": {
     "slide_type": "fragment"
    }
   },
   "source": [
    "It's easy to mix up whether you're iterating through _items_ or _indices_, so make sure to think twice about how you're setting up you loops!"
   ]
  },
  {
   "cell_type": "markdown",
   "id": "81e8b657",
   "metadata": {
    "slideshow": {
     "slide_type": "slide"
    }
   },
   "source": [
    "## Conditional Statements\n",
    "\n",
    "Python has `if`, `else`, and `elif` keywords to handle all of your conditional needs."
   ]
  },
  {
   "cell_type": "code",
   "execution_count": null,
   "id": "543499d3",
   "metadata": {},
   "outputs": [],
   "source": [
    "students = 124\n",
    "classrooms = 5\n",
    "\n",
    "if classrooms <= 0:\n",
    "    print(\"You must have at least one classroom.\")"
   ]
  },
  {
   "cell_type": "code",
   "execution_count": null,
   "id": "5eda5d70",
   "metadata": {},
   "outputs": [],
   "source": [
    "students = 124\n",
    "classrooms = 5\n",
    "\n",
    "if classrooms <= 0:\n",
    "    print(\"You must have at least one classroom.\")\n",
    "else:\n",
    "    print(\"There are\",students/classrooms,\"students per classroom.\")"
   ]
  },
  {
   "cell_type": "code",
   "execution_count": null,
   "id": "9e333421",
   "metadata": {},
   "outputs": [],
   "source": [
    "score = 76\n",
    "\n",
    "if score >= 90:\n",
    "       print('A')\n",
    "elif score >=80:\n",
    "       print('B')\n",
    "elif score >= 70:\n",
    "       print('C')\n",
    "elif score >= 60:\n",
    "       print('D')\n",
    "else:\n",
    "       print('F')"
   ]
  },
  {
   "cell_type": "markdown",
   "id": "296070c1",
   "metadata": {
    "slideshow": {
     "slide_type": "subslide"
    }
   },
   "source": [
    "## Defining Functions\n",
    "\n",
    "You can define functions in Python with the `def` keyword. \n",
    "\n",
    "Parameters are listed as comma,separated variable names between parentheses.\n",
    "\n",
    "The `return` keyword causes the function to terminate, with the given value returned."
   ]
  },
  {
   "cell_type": "code",
   "execution_count": null,
   "id": "1ead183a",
   "metadata": {},
   "outputs": [],
   "source": [
    "def square(n):\n",
    "    return n**2\n",
    "\n",
    "print( square(3) )"
   ]
  },
  {
   "cell_type": "code",
   "execution_count": null,
   "id": "d2e741b2",
   "metadata": {},
   "outputs": [],
   "source": [
    "square( square(3) )"
   ]
  },
  {
   "cell_type": "markdown",
   "id": "445561ef",
   "metadata": {
    "slideshow": {
     "slide_type": "slide"
    }
   },
   "source": [
    "## In-Class Activities\n",
    "\n",
    "Work with your breakout room on the Feb1 activity for your section and room. Note that one of the problems will be turned in for assignment credit (see below), but you should get as far through the activity with your group as you can."
   ]
  },
  {
   "cell_type": "markdown",
   "id": "c36a34a0",
   "metadata": {
    "slideshow": {
     "slide_type": "slide"
    }
   },
   "source": [
    "## Assignment 1: `search_for`\n",
    "\n",
    "For this assignment, you are going to submit the code from Problem 3 of the January 25th in-class activity notebook on CoCalc. Here is it is again:\n",
    "\n",
    "Rewrite the `search_for` function above so that it uses a loop and if statement rather than the list-contains operator (i.e., `in`).  Note that you can still use the `in` operator if setting up a for loop, just don't directly use it to check if the item is in the list.\n",
    "\n",
    "Put your code in a file called `simple_search.py` and name the function `search_for`. Make sure your code works when you run it in VS Code (or IDLE or Thonny) when you run it in script mode. Submit your code to the __Assignment 1: search_for__ codePost assignment where it will be auto-graded with unit tests. I will also look at your code to make sure you're using loops and if statements properly.\n",
    "\n",
    "The assignment is due by the end of the day on Thursday, February 3rd."
   ]
  },
  {
   "cell_type": "markdown",
   "id": "7b749944",
   "metadata": {
    "slideshow": {
     "slide_type": "slide"
    }
   },
   "source": [
    "## Assignment 2: `safe_pop`\n",
    "\n",
    "For this assignment, you are going to submit the code from Problem 7 of the February 1st in-class activity notebook on CoCalc. Here is it is again:\n",
    "\n",
    "Write a function called `safe_pop` that (similar to the `pop` method) deletes and returns the last item in a list. However, if the list is empty, return `None` instead of resulting in an error.\n",
    "\n",
    "Put your code in a file called `safe_pop_function.py` and make sure to name the function `safe_pop`. Make sure your code works when you run it in VS Code (or IDLE or Thonny) when you run it in script mode. Submit your code to the __Assignment 2: safe_pop__ codePost assignment where it will be auto-graded with unit tests.\n",
    "\n",
    "The assignment is due by the end of the day on Tuesday, February 8th."
   ]
  }
 ],
 "metadata": {
  "celltoolbar": "Slideshow",
  "kernelspec": {
   "display_name": "Python 3 (ipykernel)",
   "language": "python",
   "name": "python3"
  },
  "language_info": {
   "codemirror_mode": {
    "name": "ipython",
    "version": 3
   },
   "file_extension": ".py",
   "mimetype": "text/x-python",
   "name": "python",
   "nbconvert_exporter": "python",
   "pygments_lexer": "ipython3",
   "version": "3.10.2"
  }
 },
 "nbformat": 4,
 "nbformat_minor": 5
}
