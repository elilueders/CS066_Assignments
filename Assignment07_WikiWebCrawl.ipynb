{
 "cells": [
  {
   "cell_type": "markdown",
   "id": "c9a607e0",
   "metadata": {
    "slideshow": {
     "slide_type": "slide"
    }
   },
   "source": [
    "# Assignment 7: Wiki Web Crawl\n",
    "\n",
    "This is an 8-point assignment which should be submitted to the __Assignment 7: Wiki Web Crawl__ assignment on codePost.\n",
    "\n",
    "In the previous activity, you created a program that allows the user to explore which Wikipedia articles link to which other articles. For this assignment, you are going to create a program that does it automatically. This kind of program is called a __web crawler__. \n",
    "\n",
    "Your web crawler will start by exploring the first 10 links from one Wikipedia article <a href=\"#footnote1\">[Note 1]</a>. Then, it will explore the first 10 links from each of those articles. Then, it will explore the first 10 links from each of those articles, and so on. Whenever we decide to stop it, we'll have seen the \"closest\" articles to the original - withing 2 or 3 or 4 clicks. \n",
    "\n",
    "That's a lot of pages and the number of pages you have to keep track of gets big fast. To keep track of all the pages we still need to explore, we'll use a queue. Any time you see a link, you'll put the article into the queue. Then, you only need to worry about exploring one page at a time - just dequeue the next item and continue on.\n",
    "\n",
    "## The Algorithm\n",
    "\n",
    "The algorithm can be described like this:\n",
    "\n",
    "__Inputs/Parameters:__ the starting Wikipedia page and the number of pages to explore\n",
    "\n",
    "__Algorithm:__\n",
    "1. initialize an empty _queue_ for keeping track of page titles that you haven't yet explored\n",
    "2. initialize an empty _set_ <a href=\"#footnote2\">[Note 2]</a> for keeping track of page titles that you have already explored\n",
    "3. Enqueue the starting page\n",
    "4. While you haven't yet explored enough pages\n",
    "    * Dequeue the next page to explore\n",
    "    * Explore it by requesting the page from the Wikipedia API\n",
    "    * Check if the request worked <a href=\"#footnote3\">[Note 3]</a>. If it did and you haven't already explored this page, then...\n",
    "        * add the current page to your set of explored pages\n",
    "        * retrieve the first 10 outgoing links from the current page <a href=\"#footnote4\">[Note 4]</a> and enqueue them so you can open and explore it on some future iteration of the loop\n",
    "        \n",
    "__Return:__ The set of titles that was explored - the size of the set should match the \"number of pages to explore\" parameter.\n",
    "   \n",
    "   \n",
    "<p id=\"footnote1\">Note 1:</p>\n",
    "\n",
    "Why do we only explore the first 10 links? This is simply to limit how big the problem gets - so we can see some examples of pages that are 2 or 3 clicks away without having to wait a really long time. The first 10 links should be some of the articles that are most closely related, so they're a decent choice to limit our attention to.\n",
    "\n",
    "<p id=\"footnote2\">Note 2:</p>\n",
    "\n",
    "You can create an empty set with `set()` rather than `{}` as you would think. Python uses `{}` for empty dictionaries, so it needs another way to create a set.\n",
    "\n",
    "<p id=\"footnote3\">Note 3:</p> \n",
    "\n",
    "Some of the page title links might not work, for example `File:Mars symbol (bold).svg`. You can just skip over these links. It still counts as one of the 10 links from that page, there's just nothing to explore once you get to it. _Hint:_ If the page you request is a working page, the dictionary you get from the API will have a key called `\"source\"`, so you can check if it worked by checking if the requested dictionary has  `\"source\"` as a key.\n",
    "\n",
    "<p id=\"footnote4\">Note 4:</p> \n",
    "\n",
    "Use the `get_page_links` function.\n",
    "    \n",
    "## Context\n",
    "\n",
    "This algorithm is based more generally on a classic algorithm called __Breadth-First Search__, which can be used to solve many different kinds of problems. In addition to web crawling, it is often used for things like finding routes on a map (e.g., directions in Google Maps), laying out circuits on a circuit board, or selecting good moves to make in chess AI. You can learn more about it in courses like CS 143: Artificial Intelligence and possibly others like CS 150: Discreet Structures or CS 137: Algorithm Analysis.\n",
    "    \n"
   ]
  },
  {
   "cell_type": "markdown",
   "id": "64d077ee",
   "metadata": {},
   "source": [
    "## Assignment\n",
    "Implement this algorithm in a function called `explore_wiki` and make sure to test it with some function calls like this (add at least one of your own examples too)"
   ]
  },
  {
   "cell_type": "code",
   "execution_count": null,
   "id": "d7896cef",
   "metadata": {},
   "outputs": [],
   "source": [
    "import requests\n",
    "from pythonds.basic import Queue\n",
    "\n",
    "def get_page_links(wikitext):\n",
    "    \"\"\"\n",
    "    Get a list of all Wikipedia pages linked to from some wikitext\n",
    "    \n",
    "    Paremeters:\n",
    "        wikitext: a string with some wikitext\n",
    "        \n",
    "    Returns:\n",
    "        a list of the titles of all Wikipedia pages that are linked to\n",
    "        from the provided wikitext\n",
    "    \"\"\"\n",
    "    list_of_linked_pages = []\n",
    "    i = 0\n",
    "    while i < len(wikitext):\n",
    "        #is this the start of a wiki link?\n",
    "        if wikitext[i:i+2] == \"[[\":\n",
    "            \n",
    "            i = i+2\n",
    "            linked_page_name = \"\" #accumulator string\n",
    "            \n",
    "            #keep adding on to the accumulator string until we see a\n",
    "            # | or ] which will indicate we've reached the end of the\n",
    "            # linked page's name\n",
    "            while wikitext[i] != '|' and wikitext[i] != ']':\n",
    "                linked_page_name += wikitext[i]\n",
    "                i += 1\n",
    "            \n",
    "            list_of_linked_pages.append(linked_page_name)\n",
    "                \n",
    "        #move on to the next character\n",
    "        else:\n",
    "            i += 1\n",
    "    return list_of_linked_pages\n",
    "\n",
    "#Define your explore_wiki function here\n",
    "\n",
    "mars_related = explore_wiki(\"Mars\",100)\n",
    "print( mars_related )\n",
    "print( len(mars_related) )\n",
    "\n",
    "cpu_related = explore_wiki(\"Central Processing Unit\",1000)\n",
    "print( cpu_related )\n",
    "print( len(cpu_related) )"
   ]
  },
  {
   "cell_type": "markdown",
   "id": "0e750894",
   "metadata": {},
   "source": [
    "Note that because of the time it takes for data to be transmitted over the Internet, this may take some time to run. To begin with, you could try testing it with much smaller numbers (say, 5 or 20) to make sure it works before letting it run for a while. Once you are comfortable it works, pick a bigger number - maybe let it run over night.\n",
    "\n",
    "__For full credit, copy and paste the results of your tests into a comment in your file before submitting it to codePost.__ Because of the long execution times, there will be no automated testing on codePost, so the tests are extra important. Here's an example of what the comment might look like if I were to turn it in using the test cases above. This output will be big! That's ok - paste it anyway. Because sets don't specify have any order (and Wikipedia can change over time), your results will probably look a little different."
   ]
  },
  {
   "cell_type": "code",
   "execution_count": null,
   "id": "fa754135",
   "metadata": {},
   "outputs": [],
   "source": [
    "\"\"\"\n",
    "#Here are the test cases \n",
    "mars_related = explore_wiki(\"Mars\",100)\n",
    "print( mars_related )\n",
    "print( len(mars_related) )\n",
    "\n",
    "cpu_related = explore_wiki(\"Central Processing Unit\",1000)\n",
    "print( cpu_related )\n",
    "print( len(cpu_related) )\n",
    "\n",
    "#Below this is where I pasted the results from these tests:\n",
    "\n",
    "{'Martian', 'Elysium quadrangle', 'Airbus Defence and Space', 'science fiction', 'John Lothrop Motley', 'Astronomical unit', 'life on Mars', 'USGS Astrogeology Science Center', 'volcano', 'UTC', 'Livestream', 'Mars Science Laboratory', 'field of view', 'Scalloped topography', 'Arianespace', 'Cologne', 'Aeolis Palus', 'Mars', 'Engadget', 'Île-de-France', 'Eridania quadrangle', 'Aeolis Mons', 'Space industry', 'International System of Units', 'Euro', 'European Space Agency', 'Spirit rover', '€', 'ELA-3', 'Paris', 'Guiana Space Centre', 'Max Planck Institute for Solar System Research', 'list of quadrangles on Mars', 'aquifer', 'Anke Kaysser-Pyzalla', 'Aeolis quadrangle', 'brine', 'Water on Mars', 'Data-rate units', 'Curiosity (rover)', 'Josef Aschbacher', 'Elysium (volcanic province)', 'Gusev crater', 'Lake Superior', 'Impact crater', 'Space tourism', 'Rosetta (spacecraft)', 'Terra Cimmeria', 'EADS', 'Colonization of Mars', 'Space exploration', 'Mars Orbiter Laser Altimeter', 'intergovernmental organisation', 'Astronomical system of units', 'OSIRIS-REx', 'NASA', 'glaciers', 'metric system', 'aerospace manufacturer', 'Woking', 'Gale (crater)', 'headquarters', 'X band', '2001 Mars Odyssey', 'length', 'Doctor Who', 'Ariane 5', 'quadrangle (geography)', 'German Aerospace Center', 'Mars#Geography', 'Ultra high frequency', 'Martian (The War of the Worlds)', 'Apollinaris Patera', 'Director General of the European Space Agency', 'Mars Ocean Hypothesis#Observational evidence', 'Gale Crater', 'charge-coupled device', 'Spirit (rover)', 'extraterrestrial life', 'Non-SI units mentioned in the SI', 'Self-portrait', 'dry lake', 'Jet Propulsion Laboratory', 'Mars rover', 'United States customary units', 'Mars Orbiter Laser Altimeter (MOLA)', 'Hertz', 'Imperial units', 'Astrium', 'Elysium Planitia', 'Walter Frederick Gale', 'unit of length', 'Mars Reconnaissance Orbiter', 'Atmosphere of Mars', 'THEMIS', 'ESA', 'Mount Sharp', 'Optical, Spectroscopic, and Infrared Remote Imaging System', 'distance', 'France'}\n",
    "100\n",
    "{'approximation algorithms', 'Bell Labs', 'photomultiplier tube', 'Status register', 'Small-outline transistor', 'Dynamic RAM', 'internet', 'statement (programming)', 'Johan Wilcke', 'irrealis mood', 'Evaluation_strategy#Call by reference', 'customer', 'Betty Holberton', 'Conceptual model', 'Santa Clara University', \"Standard & Poor's\", 'light', 'Compiler', 'Multi-paradigm programming language', 'Computerspielemuseum Berlin', 'machinery', 'laboratory', 'Lenovo', '4-bit computing', 'Turing machine', 'Execution (computing)', 'thermionic emission', 'arithmetic logic unit', 'TO-126', 'algorithmic efficiency', 'Englewood Cliffs, NJ', 'Texas Instruments TMS1000', 'CPU', 'if and only if', 'electronic visual display', 'Mainframe computer', 'subroutine', 'frame buffer', \"King's College London\", 'Burlington, Iowa', 'graphics processing unit', 'charged particle', 'home video game console', 'Metal gate', 'Vincent van Gogh', 'DDR3', 'user interface', 'vacuously true', 'Ryzen Threadripper', 'ZX Spectrum', 'education', 'Data (computing)', 'grapheme', 'heterogeneous relation', 'Memory (computing)', 'Arc welder', 'Computer data storage#Primary storage', 'Greater Los Angeles', 'Work (electrical)', '1', 'Sinclair Research', 'main memory', 'command-line interface', 'static local variable', 'compiled', 'handheld game console', 'non-volatile', 'public switched telephone network', 'software design', 'vacuum', 'laser cutting', 'Pong', 'Memory address', 'germanium', 'grammatical conjugation', 'countable set', 'Ancient Greek', 'freeware', 'parser', 'Middle Ages', 'Transistor', 'semiconducting', 'Ada Lovelace', 'accessibility', 'Domain engineering', 'side effect (computer science)', 'Formal semantics of programming languages', 'St Joseph Higher Secondary School, Dhaka', 'motion sensing', \"Ohm's law\", 'metal–oxide–semiconductor', 'assembly language', 'Ontario', 'Price-weighted index', 'Single crystal', 'Lucent', 'IBM', 'general-purpose computer', 'Opteron', 'semantics of logic', 'Ultraviolet', 'Element (mathematics)', 'List of Intel microprocessors', 'Function (mathematics)', 'communication channel', 'methanol', 'exclusive or', 'programming language', 'Intel 80486DX', 'Zincblende (crystal structure)', 'Entropy (information theory)', 'Summit (supercomputer)', 'execution model', 'meta-knowledge', 'gain (electronics)', 'WP:COMMENT', 'Mercury (element)', 'Comment (computer programming)', 'Statement (computer science)', '32-bit computing', 'Harry Nyquist', 'Data storage device', 'Euler diagram', 'set theory', 'NVIDIA Tesla', 'knowledge engineer', 'Amplitude', 'control flow', 'Indonesian Democratic Party of Struggle', 'data mining', 'integrated development environment', 'bit', 'floating point', 'EPROM', 'natural science', 'Integrated circuit', 'crystal', 'Murray Hill, New Jersey', 'joystick', 'Information (formal criminal charge)', 'Bangladesh', 'counting', 'All-in-one PC', 'Digital Linear Tape', 'declarative programming', 'vehicle', 'Intel 4040', 'new math', 'bytecode', 'CRT monitor', 'game controller', 'Supercomputer', 'Socket AM4', 'Gallium', 'real-time computing', 'electron', 'mercury-arc valve', 'India', 'Instruction (computing)', 'Bachelor of Science', 'Side effect (computer science)', 'microcomputer', 'Silicon dioxide', 'Domain of discourse', 'electronic circuit', 'Random-access memory', 'California', 'computation', 'integer (computer science)', 'ultraviolet light', 'IBM System 360', 'framebuffer', 'Procedural programming', 'Industrial sector', 'system', 'cold cathode', 'Wide-field Infrared Survey Explorer', 'Die (integrated circuit)', 'software program', 'power supply unit (computer)', 'Nintendo', 'Los Angeles', 'amplifier', 'wafer dicing', 'Wafer (electronics)', 'File:Sorting quicksort anim.gif', 'Digital data', 'telephone', 'Omar Ishrak', 'radio frequency', 'electrode', 'Spanish language', 'Smartphone', 'PLL', 'PSPACE', '10 μm process', 'iPhone 6 Plus', 'Electric battery', 'non-volatile memory', 'Motorola MicroTAC#International GSM', 'Market capitalization#Market cap terms', 'Cboe Global Markets', 'Personal computer', 'procedural programming', 'computer', 'chip carrier', 'Shoes', 'FLOP', '64-bit computing', 'S&P Global', 'central processing unit', 'alphabet (computer science)', 'element (mathematics)', 'Conditional (computer programming)', 'Register (computer)', 'integer', 'Greek alphabet', '3D test model', 'Post–Turing machine', 'Doctor of Philosophy', 'logical conjunction', 'Mobile phone', 'Boule (crystal)', 'visual', 'Computer mouse', 'memory consistency', 'theoretical computer science', 'Self-evidence', 'Hellenic languages', 'AMD', 'output device', 'crystal lattice', 'Token (parser)', 'display device', 'Processor register', 'lambda calculus', 'circuit (computer science)', 'aircraft', 'Boolean circuit', '2', 'logical connective', 'Void (astronomy)', 'wavelength', 'computer hardware', 'Processor (computing)', 'ethanol', 'AT&T Corporation', 'shielded metal arc welding', 'computer engineering', 'Infinity', 'null set', 'communication', 'CPU multiplier', 'microprocessors', 'Synchronous dynamic random-access memory', 'Capitalization-weighted index#Free-float weighting', 'compiler', 'Semiconductor device fabrication', 'high-level programming language', 'Zen 2', 'Colorless green ideas sleep furiously', 'copy and paste programming', 'proof theory', 'Server (computing)', 'electrical conductor', 'input device', 'Ada (programming language)', 'floating-gate transistor', 'computer software', 'National Medal of Technology and Innovation', 'volt', 'network topology', 'AND gate', 'carbon group', 'physics', 'disk sector', 'source code', 'Boolean algebra', 'function call', 'Motorola 68010', 'Electronic circuit', 'local area network', 'Zermelo–Fraenkel set theory', 'beauty', 'data', 'Parallel ATA', 'Natural number', 'neuropsychology', 'selenium rectifier', 'Texas Instruments', 'computer processor', 'procedure call', 'probabilistic logic', 'Dhaka', 'address space', 'Apple Computer', 'arithmetic', 'strontium', 'Zen+', 'photolithography', 'ultraviolet', 'silicon', 'PDP-11', 'semiconductor device', 'United States', 'market capitalization', 'Gallium antimonide', 'photokeratitis', 'algorithm', 'mathematical object', 'shape', 'Nasdaq', 'general public', 'instruction set architecture', 'video game', 'CRC Press', 'structured programming', 'imperative mood', 'Test particle#Electrostatics', 'web browsing', 'chemistry', 'memory segmentation', 'material science', 'finite set', 'abstract model', 'telephone call', 'chemical element', 'barium', 'Mobile computing', 'Formal language theory', 'Postulation (algebraic geometry)', 'Solar System', 'Nixie tube', 'Monocrystalline silicon', 'Euclid', 'photon', 'computer data storage', 'mathematical logic', 'List of counties in California', 'mathematical proof', 'fused quartz', 'Ryzen', 'syntax', 'function (computer science)', 'Gibibyte', 'circuits over sets of natural numbers', 'video signal', 'Eugene McDermott', 'Gordon Moore', 'stock market index', 'OR gate', 'Computational problem', 'Blender (software)', 'byte', 'Computer hardware', 'eye protection', 'San Francisco', 'computer program', 'Computer security', 'electrolyte', 'Austin, Texas', 'Java (programming language)', 'RAM', 'discrete component', 'mercury-vapor lamp', 'state (computer science)', 'electric arc', 'jussive', 'Tetravalence', 'power supply', 'Semiconductor package', 'Computer graphics', 'watt', 'Copper interconnects', 'statistics', 'single-board computer', 'NEXPTIME', 'pressure', 'syllabary', 'Snippet (programming)', 'Session (computer science)', 'Instruction (computer science)', 'self-portrait', 'computer hardware ', 'Apple Inc.', 'Ralph Hartley', 'English grammar', 'Electric current', 'Grinnell College', 'integrated circuit', 'printed circuit board', 'algebra', 'Claude Shannon', 'S&P 1500', 'functional programming', 'text editor', 'Set (mathematics)', 'Gallium nitride', 'hydrochloric acid', 'atmospheric pressure', 'computational science', 'logic programming', 'Electronic engineering', 'computational complexity', 'statement (logic)', 'control system', 'information technology', 'digital computer', 'Expression (programming)', 'Western Electric', 'oxide', 'discrete system', 'FLOPS', 'intel', 'Formal language#Words over an alphabet', 'Well-defined expression', 'Units of information#Units derived from bit', 'Capitalization-weighted index', 'Bus (computing)', 'linguistics', 'Programmable ROM', 'State (computer science)', 'computer programming', 'engineering', 'calculation', 'two-port network', 'vector graphics', 'Charles Babbage', 'Computer memory', 'network protocol', 'written language', 'Automata theory', 'Dagbladet Information', 'MOSFET', 'NASDAQ-100', 'Logic gate', 'mainframe computer', 'menu (computing)', 'Noam Chomsky', 'Axiomatic (disambiguation)', 'electrical filament', 'Dow Jones Industrial Average', 'automation', 'electronics', 'Command (computing)', 'gas-filled tube', 'clock signal', 'ampere', 'Computer keyboard', 'Consistency model', 'amorphous solid', 'DIMM', 'axiom of empty set', 'Expression (mathematics)', 'Hertz', 'language primitive', 'Electrophorus', 'Mathematical programming', 'vacuum cleaner', 'New Jersey', 'automata theory', 'Intel DX2', 'ACM SIGACT', 'ion', 'Vocal language', 'LED', 'processor register', 'Shisa', 'ENIAC', 'oven', 'character (computing)', 'Central Processing Unit', 'GameCube Game Disc', 'Units of information', 'desk', 'model of computation', 'Odyssey', 'logical negation', 'Speak & Spell (toy)', 'thermionic diode', 'Prentice Hall', '\"Hello, World!\" program', 'Motorola', 'variable (mathematics)', 'integer circuit', 'Desktop computer', 'commercial software', 'digital signal processor', 'VLSI', 'glass', 'thin film', 'source code editor', 'portmanteau', 'procedural programming language', 'Intel 80486DX2', 'Sun Microsystems', 'biology', 'The New York Times', 'graphical user interface', 'Instruction set architecture', 'graphics hardware', 'communication protocol', 'Module (programming)', 'Subsidiary', 'operating system', 'Honeywell v. Sperry Rand', 'Public company', 'Template:Official languages of U.S. states and territories', 'natural language', 'Electronic amplifier', 'Cecil H. Green', 'linguistic evolution', 'string (computer science)', 'Comet NEOWISE', 'photovoltaic', 'electromagnetic radiation', 'deductive reasoning', 'natural number', 'Athena Parthenos', 'English language', 'Sign Language', 'Home video game console', 'Computer science', 'Boolean data type', 'Gallium phosphide', 'information systems', 'Syntax (programming languages)', 'grain boundary', 'Constructed language', 'Toronto', 'electric charge', 'classic philosophy', 'Computer graphics (computer science)', 'Finite set', 'Complex instruction set computer', 'embedded system', 'unstructured data', 'Eureka (word)#California', 'analytical engine', 'die (integrated circuit)', 'Tag system', 'heat sinks', 'GameCube controller', 'mathematical model', 'Sandro Botticelli', 'mechanical computer', 'Factory', 'telephone network', 'formal language', 'command (computing)', 'alphabet', 'S&P 100', 'Energy', 'solar cell', 'Sacramento, California', 'Integrated circuit packaging', 'Imperative programming', 'Central processing unit', 'image', 'Torus interconnect', 'subset', 'truth function', 'Cambridge University Press', 'Power inverter', 'photoconductive', 'Algol 60', 'virtual memory', 'human behavior', 'Oracle Corporation', 'annotation', 'Sixth generation of video game consoles', 'Electronics', 'Chemical vapor deposition', 'Argonne National Laboratory', 'primary storage', 'microelectronics', 'IEEE', 'Interpreter (computing)', 'computational complexity theory', 'Intel', 'disassembler', 'Raphael', 'Touch', 'logic', 'Ballistic Research Laboratory', 'metal gate', 'empty set', 'nanometer', 'Princeton University', 'thermal oxidation', 'Video game console', 'complex instruction set computer', 'Semiconductor', 'Help:Wiki markup#Character formatting', 'clock cycle', 'California Office of Legislative Counsel', 'end user', 'I486', 'listing (finance)', 'Posterior Analytics', 'dicing saw', 'Fairchild Semiconductor', 'The School of Athens', 'power (physics)', 'Computer monitor', 'company', 'virtual machine', 'NASDAQ Financial-100', 'phototube', 'x86-64', 'Academic Press', 'Richard Dedekind', 'discrete mathematics', 'New York Stock Exchange Building', 'Refreshable Braille display', 'front side bus', 'DIP switch', 'Metal-oxide-semiconductor field-effect transistor', 'AC adapter', 'multi-user', 'FinFET', 'Digital image', 'direct current', 'Leonhard Euler', 'Medtronic', 'technician', 'Units of information#Primary units', 'Computer programming', 'expression (programming)', 'visual programming language', 'TO-92', 'arc tube', 'Computer-generated imagery', 'number', 'Information system', 'Large cap', 'Expression (computer science)', 'countable', 'matter', 'mobile phone', 'image resolution', 'amplitude', 'grammatical mood', 'value (computer science)', 'J. Erik Jonsson', 'shell (computing)', 'Watt', 'Semantics (computer science)', 'dual in-line package', 'Axiom (disambiguation)', \"Goldbach's conjecture\", 'imperative programming', 'Simon (game)', 'Interdisciplinarity', 'cohortative', 'acetone', 'computing device', 'DRAKON', 'truth value', 'spatial coordinates', 'low-level programming language', 'stock exchange', 'Gordon and Betty Moore Foundation', 'ALGOL', 'jump instruction', 'knowledge', 'Character (computing)', 'circuit complexity', 'Battery (electricity)', 'electric field', 'Massachusetts Institute of Technology', 'The C Programming Language', 'time-sharing', 'Python (programming language)', 'axiom of infinity', 'octet (computing)', 'domain knowledge', 'Santa Clara County, California', 'microprocessor', 'hot cathode', 'comment (computer programming)', 'calcium', 'Encyclopedia Britannica', 'Soda-lime glass', 'Computer network', 'through-hole technology', 'Geophysical Service Incorporated', 'charge carrier', 'rectifier', 'GameCube', 'Machine code', 'Electrical network', 'silicone', 'alternating current', 'gas-discharge lamp', 'TO-3', 'Ion implantation', 'intersection (set theory)', 'cathode', 'via (electronics)', 'cybersecurity', 'diagram', 'evaluator', 'Alternative approaches to redefining the kilogram', 'IEC 80000-13', 'computer language', 'information', 'clock rate', 'digital signal', 'function (mathematics)', 'Ancient Greece', 'Atomic operation', 'Telecommunication', 'mobile broadband', 'computers', 'application software', 'COBOL', 'programming paradigm', 'mobile phone operator', 'programmable read-only memory', 'Machine language', 'University of London', 'cellular network', 'axiom', 'programming language implementation', 'Subset', 'Microsoft', 'I Love You, California', 'networking hardware', 'graphics card', 'Merlin (console)', 'atomic number', 'Māori language', 'sputtering', 'probability theory', 'geometry', 'BASIC', 'Talk:Do_while_loop#Helpbox_experiment', 'Bit', 'University of Toronto', 'combinational logic', 'Dennis Ritchie', 'Information theory', 'network host', 'GlobalFoundries', 'cardinality', 'Electric power conversion', 'Socket TR4', 'Gravity Probe B', 'units of information', 'Big Trak', 'computer architecture', 'Finite state machine', 'Brian Kernighan', 'truth', 'Clock signal', 'Electrical conductor', 'List of S&P 500 companies', 'City (California)', 'symbol', 'Robert Noyce', 'type theory', 'heatsink', 'carbon', 'microarchitecture', 'uncountable set', 'computer memory', 'MoneyWeek', 'set (mathematics)', 'S&P Dow Jones Indices', 'number theory', 'IBM NetVista', 'microcontroller', 'The C Programming Language (book)', 'Harold Pender Award', 'Mediterranean Sea', 'binary-coded decimal', 'silicon controlled rectifier', 'nominal number', 'Zen (first generation microarchitecture)', 'File:Einstein gyro gravity probe b.jpg', 'wafer (electronics)', 'sawing', 'computer system', 'copper interconnect', 'machine learning', 'Chokwe people', 'multimedia', 'digital electronics', 'user interface design', 'User (computing)', 'address bus', 'sunburn', 'Petabyte', 'control volume', 'sequence', 'Alcatel-Lucent', 'History of computing hardware', 'Faraday Medal', 'W65C816S', 'DDR4 SDRAM', \"Moore's law\", 'telecommunication network', 'Santa Clarita, California', 'transistors', 'software', 'list of glossing abbreviations', 'software agent', 'Suzanne (3D model)', 'information theory', 'Via (electronics)', 'Interconnection', 'SPARCstation', 'Constraint (information theory)', 'Georg Cantor', 'Pennsylvania', 'memory address', 'computer keyboard', 'computing', 'natural numbers', 'Translator (computing)', 'Vacuum fluorescent display', 'classical logic', 'verb', 'desktop computer', 'complex number', 'Yahoo! Finance', 'Caltech', 'Signal (information theory)', 'mathematics', 'uncertainty', 'computability theory (computer science)', 'grammatical person', 'Philadelphia', 'Uniqueness quantification', 'Blue Gene', '8-bit computing', 'Bagh Print', 'field-effect transistor', 'general knowledge', 'Santa Clara, California', 'legal system', 'Batch processing', 'BSD', 'peripheral device', 'instruction set', 'object code', 'symbol (formal)', 'measurement', 'heat spreader', 'memory (computing)', 'Parthenon', 'Clare of Assisi', 'Patrick E. Haggerty', 'Foxconn', 'The Birth of Venus', 'Over-the-counter (finance)', 'home computer', 'art', 'Motorola 68000 series', 'Mission Santa Clara de Asís', 'volatile memory', 'Amorphous solid', 'arsenide', 'sanity test', \"Euclid's algorithm\", 'premise', 'axiomatic set theories', 'platform (computing)', 'electric potential', 'space telescope', 'Mobile device', 'Homer', 'Equality (mathematics)', 'computer programs', 'Personal computer hardware', 'frequency multiplier', 'Symbol (chemistry)', 'Fortran', 'axiom of regularity', 'steering', 'data science', 'etching', 'share capital', 'logic design', 'feature phone', 'Language of mathematics', 'Octet (computing)', 'Semiconductor fabrication', 'minicomputer', 'Concept', 'workstation', 'space', 'gas filled tube', 'neutron star', 'Proto-Greek language', 'central processor unit', 'photoelectric effect', 'digital logic', 'Technology', 'Red Hat Enterprise Linux', 'non-local variable', 'electric current', 'human', 'Venn diagram', 'semiconductor', 'Mainframe', 'personal computers', 'capitalization-weighted index', 'Intel 4004', 'UC Berkeley', 'disjunction introduction', 'Electronic component', 'Hello world', 'language', 'motherboard', 'gray level', 'electronic components', 'software engineering', 'Texas', 'Business', 'earth science', 'ThinkCentre#S50', 'Motorola 68000', 'outer space', 'pixel', 'codename', 'telephony', 'data type', 'Association for Computing Machinery', 'singleton (mathematics)', 'NOT gate', 'File:80486dx2-large.jpg', 'S&P 500', 'Integer (computer science)', 'letter (alphabet)', 'University of Pennsylvania', 'POWER9', 'computer case', 'object-oriented programming', 'logical disjunction', 'File:Three_input_Boolean_circuit.jpg', 'George Boole', 'Game Boy Player', 'philosophy of language', 'Bachelor of Applied Science', 'NASDAQ', 'vacuum tube', 'disjunction elimination', 'Domain expert', 'voltage', 'electronic game', 'tuple', 'Gigabyte', 'shoemaker', 'Iowa', 'infinite set', 'interpreter (computing)', 'Nasdaq-100', 'electrical engineering', 'lower level language', 'New York Stock Exchange', 'astronomical survey', 'calipers', 'Computer program', 'George Boolos', 'Skilled worker', 'Negation', 'unlisted public company', 'physical system', 'boiler', 'low level language', 'Node (networking)', 'mobile operating system', 'machine code', 'state space', 'U.S. Department of Energy', 'Mathematical object', 'personal computer', 'C (programming language)', 'TOP500', 'clock multiplier', 'metalloid', 'imagination', '4000-series integrated circuits', 'photocathode', 'Pascal (programming language)', 'craft', 'electronic switch', 'electronic engineering', 'denotation', 'Gallium arsenide', 'gate oxide', 'Flowchart', 'Floating-gate MOSFET', 'theory of computation', 'computer science', 'telecommunication', 'quantification (science)', 'implementation'}\n",
    "1000\n",
    "\"\"\""
   ]
  }
 ],
 "metadata": {
  "celltoolbar": "Slideshow",
  "kernelspec": {
   "display_name": "Python 3 (ipykernel)",
   "language": "python",
   "name": "python3"
  },
  "language_info": {
   "codemirror_mode": {
    "name": "ipython",
    "version": 3
   },
   "file_extension": ".py",
   "mimetype": "text/x-python",
   "name": "python",
   "nbconvert_exporter": "python",
   "pygments_lexer": "ipython3",
   "version": "3.10.2"
  },
  "varInspector": {
   "cols": {
    "lenName": 16,
    "lenType": 16,
    "lenVar": 40
   },
   "kernels_config": {
    "python": {
     "delete_cmd_postfix": "",
     "delete_cmd_prefix": "del ",
     "library": "var_list.py",
     "varRefreshCmd": "print(var_dic_list())"
    },
    "r": {
     "delete_cmd_postfix": ") ",
     "delete_cmd_prefix": "rm(",
     "library": "var_list.r",
     "varRefreshCmd": "cat(var_dic_list()) "
    }
   },
   "types_to_exclude": [
    "module",
    "function",
    "builtin_function_or_method",
    "instance",
    "_Feature"
   ],
   "window_display": false
  }
 },
 "nbformat": 4,
 "nbformat_minor": 5
}
