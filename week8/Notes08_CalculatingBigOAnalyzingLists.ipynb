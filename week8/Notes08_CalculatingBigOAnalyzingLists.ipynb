{
 "cells": [
  {
   "cell_type": "markdown",
   "id": "cc81591b",
   "metadata": {
    "slideshow": {
     "slide_type": "slide"
    }
   },
   "source": [
    "# Calculating Big-O of Code and Analyzing Python List Operations\n",
    "#### CS 66: Introduction to Computer Science II"
   ]
  },
  {
   "cell_type": "markdown",
   "id": "301c20d3",
   "metadata": {
    "slideshow": {
     "slide_type": "slide"
    }
   },
   "source": [
    "## References for this lecture\n",
    "\n",
    "Problem Solving with Algorithms and Data Structures using Python\n",
    "\n",
    "Sections 3.4-3.6: https://www.runestone.academy/runestone/books/published/pythonds/AlgorithmAnalysis/toctree.html\n"
   ]
  },
  {
   "cell_type": "markdown",
   "id": "b016ffab",
   "metadata": {
    "slideshow": {
     "slide_type": "slide"
    }
   },
   "source": [
    "## Review: Determining Big-O\n",
    "\n",
    "Finding Big-O values is much easier than calculating $T(n)$ because you can ignore all the constants.\n",
    "\n",
    "Here, we can see we have _constant_ * $n$ + _constant_ number of operations, which is just $O(n)$. \n",
    "\n",
    "The only thing that depends on the _size of the input_ is the number of times the loop iterates."
   ]
  },
  {
   "cell_type": "code",
   "execution_count": 13,
   "id": "ed31bd2f",
   "metadata": {},
   "outputs": [],
   "source": [
    "def sum_of_n_loop(n):\n",
    "    total = 0  # constant number of things\n",
    "    \n",
    "    #this loop runs n + constant number times\n",
    "    for i in range(n+1): #constant number of operations \n",
    "        total += i  #constant number of operations\n",
    "        \n",
    "    return total"
   ]
  },
  {
   "cell_type": "markdown",
   "id": "ed3fe6a3",
   "metadata": {
    "slideshow": {
     "slide_type": "slide"
    }
   },
   "source": [
    "## Group Acitivity Problem 1\n",
    "\n",
    "We calculated the Big-O of this `search_for()` function last time. Review the following with your group:\n",
    "1. What was $n$ for this problem?\n",
    "2. What input causes this algorithm to finish in the fastest amount of time?\n",
    "3. What input causes this algorithm to finish in the slowest amount of time?\n",
    "4. What's a _typical_ input for this function?"
   ]
  },
  {
   "cell_type": "code",
   "execution_count": 14,
   "id": "7fdd163f",
   "metadata": {},
   "outputs": [
    {
     "name": "stdout",
     "output_type": "stream",
     "text": [
      "True\n",
      "True\n",
      "True\n",
      "False\n"
     ]
    }
   ],
   "source": [
    "def search_for(item, list_to_search_in):\n",
    "    \"\"\"\n",
    "    item: the item you're supposed to search for\n",
    "    list_to_search_in: the list you're supposed to look through to find item\n",
    "    return: True or False depending on if item is contained in list_to_search_in\n",
    "    \"\"\"\n",
    "    for curr_item in list_to_search_in:\n",
    "        if item == curr_item:\n",
    "            return True\n",
    "    \n",
    "    return False\n",
    "\n",
    "#let's test it on some examples\n",
    "print( search_for(42,[35,66,70,5,42,10,12]) )\n",
    "print( search_for(35,[35,66,70,5,42,10,12]) )\n",
    "print( search_for(12,[35,66,70,5,42,10,12]) )\n",
    "print( search_for(9,[35,66,70,5,42,10,12]) )"
   ]
  },
  {
   "cell_type": "markdown",
   "id": "6debb21e",
   "metadata": {
    "slideshow": {
     "slide_type": "subslide"
    }
   },
   "source": [
    "## Best, Average, and Worst Case\n",
    "\n",
    "Different inputs (of the same size) to the same algorithm might result in different running times\n",
    "\n",
    "__Best case__ performance: running time on the input that allows the algorithm to finish the fastest\n",
    "\n",
    "__Worst case__ performance: running time on the input that requires the most time for the algorithm to finish\n",
    "\n",
    "__Average case__ performance: average running time over typical inputs\n",
    "* often it is difficult to determine what the _typical_ inputs are that should be considered\n",
    "\n",
    "Unless otherwise stated, Big-O is assumed to be talking about _worst case performance_.\n",
    "\n",
    "What are the best, worst, and average cases for `search_for()`?"
   ]
  },
  {
   "cell_type": "markdown",
   "id": "424820fe",
   "metadata": {
    "slideshow": {
     "slide_type": "slide"
    }
   },
   "source": [
    "## Group Activity Problem 2: Anagram Detection\n",
    "\n",
    "An _anagram_ is a word or phrase that can be formed by rearranging the letters of a different word or phrase.\n",
    "\n",
    "Examples of anagrams include\n",
    "\n",
    "silent, listen\n",
    "\n",
    "night, thing\n",
    "\n",
    "the morse code, here come dots\n",
    "\n",
    "eleven plus two, twelve plus one"
   ]
  },
  {
   "cell_type": "markdown",
   "id": "bb5cf5eb",
   "metadata": {},
   "source": [
    "__Problem:__ Write a function that will tell you if two strings are anagrams."
   ]
  },
  {
   "cell_type": "markdown",
   "id": "aa92a0d2",
   "metadata": {},
   "source": [
    "The book provides four different solutions in Section 3.4. Three of them are reproduced below. \n",
    "\n",
    "Each group will be assigned one of these solutions. Do the following as a group.\n",
    "\n",
    "1. Test the code on several inputs of different sizes.\n",
    "2. Instrument the code to measure the time it takes on different-sized inputs.\n",
    "3. Give examples of best, worst, and average case inputs.\n",
    "4. Determine what the Big-O of the algorithm is, and be ready to explain why.\n",
    "\n",
    "If you have time, you can check out what it says in the book, but try to analyze it without looking first!"
   ]
  },
  {
   "cell_type": "markdown",
   "id": "e56e8c43",
   "metadata": {
    "slideshow": {
     "slide_type": "subslide"
    }
   },
   "source": [
    "## Solution 1: Checking off\n",
    "\n",
    "This code works by converting the second string into a list and then search through the list for each character from the first string and replacing it with `None` when found.\n",
    "\n",
    "For example, if given `\"silent\"` and `\"listen\"`, the list would start out as\n",
    "\n",
    "`['l','i','s','t','e','n']`\n",
    "\n",
    "when searching for `'s'`, it becomes `['l','i',None,'t','e','n']`\n",
    "\n",
    "when searching for `'i'`, it becomes `['l',None,None,'t','e','n']`\n",
    "\n",
    "... and so until the list becomes `[None,None,None,None,None,None]`"
   ]
  },
  {
   "cell_type": "code",
   "execution_count": 16,
   "id": "a0881483",
   "metadata": {},
   "outputs": [
    {
     "name": "stdout",
     "output_type": "stream",
     "text": [
      "True\n"
     ]
    }
   ],
   "source": [
    "def anagramSolution1(s1,s2):\n",
    "    stillOK = True\n",
    "    if len(s1) != len(s2):\n",
    "        stillOK = False\n",
    "\n",
    "    alist = list(s2)\n",
    "    pos1 = 0\n",
    "\n",
    "    while pos1 < len(s1) and stillOK:\n",
    "        pos2 = 0\n",
    "        found = False\n",
    "        while pos2 < len(alist) and not found:\n",
    "            if s1[pos1] == alist[pos2]:\n",
    "                found = True\n",
    "            else:\n",
    "                pos2 = pos2 + 1\n",
    "\n",
    "        if found:\n",
    "            alist[pos2] = None\n",
    "        else:\n",
    "            stillOK = False\n",
    "\n",
    "        pos1 = pos1 + 1\n",
    "        \n",
    "        #uncomment this if you want to see what the list looks like at each step\n",
    "        #print(alist)\n",
    "\n",
    "    return stillOK\n",
    "\n",
    "print(anagramSolution1('silent','listen'))"
   ]
  },
  {
   "cell_type": "markdown",
   "id": "e6a0c900",
   "metadata": {
    "slideshow": {
     "slide_type": "subslide"
    }
   },
   "source": [
    "## Solution 2: Sort and Compare\n",
    "\n",
    "This solution starts by converting both strings to lists and then sorting them. Once in sorted order, it goes through and checks that each corresponding item in the list is the same.\n",
    "\n",
    "For example, if given `\"silent\"` and `\"listen\"`, it would turn them into lists `['s', 'i', 'l', 'e', 'n', 't']` and `['l', 'i', 's', 't', 'e', 'n']`.\n",
    "\n",
    "Then, after sorting each list, we get `['e', 'i', 'l', 'n', 's', 't']` and `['e', 'i', 'l', 'n', 's', 't']`.\n",
    "\n",
    "We then compare `e` to `e`, then `i` to `i`, then `l` to `l` and so on. If we ever find two that don't match, we know it isn't an anagram. If we get to the end and they all match, it is an anagram."
   ]
  },
  {
   "cell_type": "code",
   "execution_count": 17,
   "id": "5b3e76c2",
   "metadata": {},
   "outputs": [
    {
     "name": "stdout",
     "output_type": "stream",
     "text": [
      "True\n"
     ]
    }
   ],
   "source": [
    "def anagramSolution2(s1,s2):\n",
    "    alist1 = list(s1)\n",
    "    alist2 = list(s2)\n",
    "\n",
    "    alist1.sort()\n",
    "    alist2.sort()\n",
    "    \n",
    "    #uncomment these if you want to see the sorted lists\n",
    "    #print(alist1)\n",
    "    #print(alist2)\n",
    "\n",
    "    pos = 0\n",
    "    matches = True\n",
    "\n",
    "    while pos < len(s1) and matches:\n",
    "        if alist1[pos]==alist2[pos]:\n",
    "            pos = pos + 1\n",
    "        else:\n",
    "            matches = False\n",
    "\n",
    "    return matches\n",
    "\n",
    "print(anagramSolution2('silent','listen'))"
   ]
  },
  {
   "cell_type": "markdown",
   "id": "c93f6468",
   "metadata": {
    "slideshow": {
     "slide_type": "subslide"
    }
   },
   "source": [
    "## Solution 4: Count and Compare\n",
    "\n",
    "This solution creates a list of letter frequencies for each string. Since there aree 26 letters in the alphabet, the strings will each have 26 entries - the first entry is the number of occurrences of `'a'`, the secondd is the number of occurrences of `'b'`, and so on. \n",
    "\n",
    "We can then loop through these frequency lists and compare them item by item to see if they're the same.\n",
    "\n",
    "For example, given inputs `'elevenplustwo'` and `'twelveplusone'`, you end up with the frequency lists\n",
    "\n",
    "`[0, 0, 0, 0, 3, 0, 0, 0, 0, 0, 0, 2, 0, 1, 1, 1, 0, 0, 1, 1, 1, 1, 1, 0, 0, 0]`\n",
    "\n",
    "and \n",
    "`[0, 0, 0, 0, 3, 0, 0, 0, 0, 0, 0, 2, 0, 1, 1, 1, 0, 0, 1, 1, 1, 1, 1, 0, 0, 0]`\n",
    "\n",
    "looping through this list entry by entry will show that they are the same.\n",
    "\n",
    "On the other hand, if given inputs `'granma'` and `'anagram'`, you'd get the frequency lists\n",
    "\n",
    "`[2, 0, 0, 0, 0, 0, 1, 0, 0, 0, 0, 0, 1, 1, 0, 0, 0, 1, 0, 0, 0, 0, 0, 0, 0, 0]`\n",
    "\n",
    "`[3, 0, 0, 0, 0, 0, 1, 0, 0, 0, 0, 0, 1, 1, 0, 0, 0, 1, 0, 0, 0, 0, 0, 0, 0, 0]`\n",
    "\n",
    "And you can determine they are not anagrams, because the first list has a 2 in the `a` position while the second one has a `3`."
   ]
  },
  {
   "cell_type": "code",
   "execution_count": 18,
   "id": "6a5defc0",
   "metadata": {},
   "outputs": [
    {
     "name": "stdout",
     "output_type": "stream",
     "text": [
      "True\n"
     ]
    }
   ],
   "source": [
    "def anagramSolution4(s1,s2):\n",
    "    c1 = [0]*26\n",
    "    c2 = [0]*26\n",
    "\n",
    "    for i in range(len(s1)):\n",
    "        pos = ord(s1[i])-ord('a')\n",
    "        c1[pos] = c1[pos] + 1\n",
    "\n",
    "    for i in range(len(s2)):\n",
    "        pos = ord(s2[i])-ord('a')\n",
    "        c2[pos] = c2[pos] + 1\n",
    "        \n",
    "    #uncomment these if you want to see the word frequency lists\n",
    "    #print(c1) \n",
    "    #print(c2)\n",
    "\n",
    "    j = 0\n",
    "    stillOK = True\n",
    "    while j<26 and stillOK:\n",
    "        if c1[j]==c2[j]:\n",
    "            j = j + 1\n",
    "        else:\n",
    "            stillOK = False\n",
    "\n",
    "    return stillOK\n",
    "\n",
    "print(anagramSolution4('elevenplustwo','twelveplusone'))"
   ]
  },
  {
   "cell_type": "markdown",
   "id": "b3ff098a",
   "metadata": {
    "slideshow": {
     "slide_type": "slide"
    }
   },
   "source": [
    "## Group Activity Problem 3\n",
    "\n",
    "We're going to run some experiments to see if we can guess what the Big-O of various Python list operations is. \n",
    "\n",
    "1. Get the `timing_list_operations.py` file from Blackboard.\n",
    "2. Run the experiment - adjust the sizes of lists or number of repetitions you're experimenting as necessary\n",
    "3. Based on your results, what do think the Big-O of the list operation is?\n",
    "\n",
    "Note that to test the timing of some code, you define a function that uses the list operation and then pass that function _name_ to the `run_list_op_timing_experiments` function. For example, `search_val_0` tests the `in` operator, so running `run_list_op_timing_experiments` like this will run it on 20 different random lists each of size 100000, 200000, ..., 10000000, and all the run times will be saved to the `results` variable.\n",
    "\n",
    "You can look at the code in `timing_list_operations.py` to see how it works - there's nothing complicated about it, but I've just provided it for your convenience in running timing experiments."
   ]
  },
  {
   "cell_type": "code",
   "execution_count": null,
   "id": "d203b8cd",
   "metadata": {},
   "outputs": [],
   "source": [
    "#an example of a list operation we can test\n",
    "def search_val_0(test_list):\n",
    "    result = 0 in test_list\n",
    "    return result\n",
    "\n",
    "list_sizes = range(100000,1000001,100000)\n",
    "results = run_list_op_timing_experiments(list_sizes,search_val_0,20)\n",
    "plot_results(list_sizes,results)\n",
    "display_results(list_sizes,results)"
   ]
  },
  {
   "cell_type": "markdown",
   "id": "8a27f1da",
   "metadata": {
    "slideshow": {
     "slide_type": "-"
    }
   },
   "source": [
    "## Group Activity Problem 4\n",
    "\n",
    "In the above example, you tested the `0 in test_list` operation through the `search_val_0` function. Create some additional functions and test them similarly. Try the following operations. For each one, try to guess what you think the Big-O of that operation probably is. You may need to try some bigger $n$ to see some of these clearly.\n",
    "\n",
    "If you see any result like `171.45672101µ`, it means $171.45672101x10^-6$."
   ]
  },
  {
   "cell_type": "code",
   "execution_count": null,
   "id": "1727bb53",
   "metadata": {},
   "outputs": [],
   "source": [
    "test_list.pop()  #remove the last item in the list\n",
    "test_list.pop(0) #remove the first item in the list\n",
    "test_list.sort() #sort the list\n",
    "x = test_list[random_index]  #access a random item in a list - you'll have to generate a random int first"
   ]
  },
  {
   "cell_type": "markdown",
   "id": "a9ea1e74",
   "metadata": {},
   "source": [
    "Discuss: Are you surprised by any of these results?\n",
    "\n",
    "Once you have an idea of what the Big-O is for these operations, look to see what the textbook authors say it is here: \n",
    "https://www.runestone.academy/runestone/books/published/pythonds/AlgorithmAnalysis/Lists.html"
   ]
  },
  {
   "cell_type": "markdown",
   "id": "e1c57c85",
   "metadata": {
    "slideshow": {
     "slide_type": "slide"
    }
   },
   "source": [
    "## White Board Talk\n",
    "\n",
    "If there's time, we'll draw some pictures on the white board to see how Python lists are stored in memory and how that affects the Big-O of all these operations.\n",
    "\n",
    "Points to note:\n",
    "\n",
    "* Python keeps track of lists in consecutive chunks of computer memory - this data structure is often called an _array_\n",
    "* Consecutive memory locations allow $O(1)$ access to items by index in the list - this is often called _random access_\n",
    "* Python allocates a certain amount of space for the list. If it outgrows that, it will allocate a new, bigger memory space and copy everything over.\n",
    "* The _worst case_ for `append()` happens when it triggers a re-allocation to the bigger memory space, so it is technically $O(n)$. But, this is guaranteed to happen infrequently enough that it's still $O(n)$ to append $n$ items, thus thee __ammortized worst case__ for appending one item is $O(1)$, which is why the textbook says `append()` is $O(1)$. For more information, see https://wiki.python.org/moin/TimeComplexity"
   ]
  }
 ],
 "metadata": {
  "celltoolbar": "Slideshow",
  "kernelspec": {
   "display_name": "Python 3 (ipykernel)",
   "language": "python",
   "name": "python3"
  },
  "language_info": {
   "codemirror_mode": {
    "name": "ipython",
    "version": 3
   },
   "file_extension": ".py",
   "mimetype": "text/x-python",
   "name": "python",
   "nbconvert_exporter": "python",
   "pygments_lexer": "ipython3",
   "version": "3.10.2"
  },
  "varInspector": {
   "cols": {
    "lenName": 16,
    "lenType": 16,
    "lenVar": 40
   },
   "kernels_config": {
    "python": {
     "delete_cmd_postfix": "",
     "delete_cmd_prefix": "del ",
     "library": "var_list.py",
     "varRefreshCmd": "print(var_dic_list())"
    },
    "r": {
     "delete_cmd_postfix": ") ",
     "delete_cmd_prefix": "rm(",
     "library": "var_list.r",
     "varRefreshCmd": "cat(var_dic_list()) "
    }
   },
   "types_to_exclude": [
    "module",
    "function",
    "builtin_function_or_method",
    "instance",
    "_Feature"
   ],
   "window_display": false
  }
 },
 "nbformat": 4,
 "nbformat_minor": 5
}
