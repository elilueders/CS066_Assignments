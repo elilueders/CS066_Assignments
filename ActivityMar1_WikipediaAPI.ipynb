{
 "cells": [
  {
   "cell_type": "markdown",
   "id": "983495e5",
   "metadata": {
    "slideshow": {
     "slide_type": "slide"
    }
   },
   "source": [
    "# Fun with Wikipedia Data\n",
    "\n",
    "#### CS 66: Introduction to Computer Science II"
   ]
  },
  {
   "cell_type": "markdown",
   "id": "86a0b2e8",
   "metadata": {
    "slideshow": {
     "slide_type": "slide"
    }
   },
   "source": [
    "## What are we doing?\n",
    "\n",
    "I'm experimenting with some ideas for fun assignments that use more APIs like these. The next assignment will show how we can use it to build a web crawler that automatically follows web links and saves information about them. Eventually we may use this to more interesting things."
   ]
  },
  {
   "cell_type": "markdown",
   "id": "eb461685",
   "metadata": {
    "slideshow": {
     "slide_type": "slide"
    }
   },
   "source": [
    "## Wikipedia API\n",
    "\n",
    "Wikipedia has an API that allows you to integrate Wikipedia into your applications\n",
    "\n",
    "It works much like th COVID API we used\n",
    "\n",
    "Here's a reference: https://www.mediawiki.org/wiki/API:REST_API/Reference\n",
    "\n",
    "Try this code out for yourself in a `.py` file in VS Code."
   ]
  },
  {
   "cell_type": "code",
   "execution_count": null,
   "id": "4bc36fa2",
   "metadata": {},
   "outputs": [],
   "source": [
    "import requests\n",
    "\n",
    "endpoint = \"https://en.wikipedia.org/w/rest.php/v1/page/Mars\"\n",
    "response = requests.get(endpoint)\n",
    "page_results = response.json()\n",
    "print(page_results)"
   ]
  },
  {
   "cell_type": "markdown",
   "id": "2decdfaf",
   "metadata": {},
   "source": [
    "## Group Activity Problem 1\n",
    "\n",
    "You probably noticed that the data you printed from the Wikipedia request is too big to completely understand. Write some code that will instead print out out the type of the object that you get back (`page_results`)."
   ]
  },
  {
   "cell_type": "markdown",
   "id": "3fe1a42a",
   "metadata": {},
   "source": [
    "## Group Activity Problem 2\n",
    "\n",
    "Hopefully you noticed that `page_results` is a dictionary. Loop through it and print out all of its keys. How many keys are there - what do you think they are for?"
   ]
  },
  {
   "cell_type": "markdown",
   "id": "6534c05a",
   "metadata": {},
   "source": [
    "## Group Activity Problem 3\n",
    "\n",
    "Try printing some of the values for each of the `page_results` keys. Discuss what each of them are for. Which one contains the bulk of the data?"
   ]
  },
  {
   "cell_type": "code",
   "execution_count": 2,
   "id": "c4adc770",
   "metadata": {},
   "outputs": [
    {
     "name": "stdout",
     "output_type": "stream",
     "text": [
      "Mars\n",
      "wikitext\n"
     ]
    }
   ],
   "source": [
    "import requests\n",
    "\n",
    "endpoint = \"https://en.wikipedia.org/w/rest.php/v1/page/Mars\"\n",
    "response = requests.get(endpoint)\n",
    "page_results = response.json()\n",
    "print(page_results[\"title\"])\n",
    "print(page_results[\"content_model\"])\n",
    "#... keep going"
   ]
  },
  {
   "cell_type": "markdown",
   "id": "27f78ba8",
   "metadata": {},
   "source": [
    "## Group Activity Problem 4\n",
    "\n",
    "You could try printing out all of `page_results[source]`, but it is probably too much to fit on the terminal. Instead, just print out the first 10000 characters. Notice towards the bottom of this, you will see what looks like the actual text of the Wikipedia article on Mars.\n",
    "\n",
    "Go to https://en.wikipedia.org/wiki/Mars and compare."
   ]
  },
  {
   "cell_type": "code",
   "execution_count": 4,
   "id": "4c2bf740",
   "metadata": {},
   "outputs": [
    {
     "name": "stdout",
     "output_type": "stream",
     "text": [
      "{{Short description|Planet}}\n",
      "\n",
      "{{About|the planet|the deity|Mars (mythology)|other uses}}\n",
      "\n",
      "{{Pp-move-indef}}\n",
      "{{Pp-semi-indef}}\n",
      "\n",
      "{{Use British English|date=July 2020}}\n",
      "{{Use dmy dates|date=July 2020}}\n",
      "\n",
      "{{Infobox planet\n",
      "| name                   = Mars\n",
      "| symbol                 = [[File:Mars symbol (bold).svg|24px|♂]]\n",
      "| image                  = OSIRIS Mars true color.jpg\n",
      "| image_alt              = Mars appears as a red-orange globe with darker blotches and white icecaps visible on both of its poles.\n",
      "| caption                = Pictured in natural color in 2007{{efn|This image was taken by the [[Rosetta (spacecraft)|''Rosetta'']] spacecraft's [[Optical, Spectroscopic, and Infrared Remote Imaging System]] (OSIRIS), at a distance of ≈{{convert|240000|km}} during its February 2007 encounter. The view is centered on the [[Aeolis quadrangle]], with [[Gale (crater)|Gale crater]], the landing site of the [[Curiosity (rover)|''Curiosity'' rover]], prominently visible just left of center. The darker, more heavily cratered terrain in the south, [[Terra Cimmeria]], is composed of older terrain than the much smoother and brighter [[Elysium Planitia]] to the north. Geologically recent processes, such as the possible existence of a [[Water on Mars|global ocean]] in Mars's past, could have helped lower-elevated areas, such as Elysium Planitia, retain a more youthful look.}}\n",
      "| background             = #f8f9fa\n",
      "| pronounced             = {{IPAc-en|audio=en-us-Mars.ogg|ˈ|m|ɑr|z}}\n",
      "| adjectives             = [[Martian]] ({{IPAc-en|ˈ|m|ɑr|ʃ|ən}})\n",
      "| orbit_ref              = <ref name=\"VSOP87\"/>\n",
      "| epoch                  = [[J2000]]\n",
      "| aphelion               = {{convert|249200000|km|mi AU|comma=gaps|abbr=on|disp=x|<br /><small>(|)</small>}}\n",
      "| perihelion             = {{convert|206700000|km|mi AU|comma=gaps|abbr=on|disp=x|<br /><small>(|)</small>}}\n",
      "| time_periastron        = 2022-Jun-21<ref name=horizons-perihelion>{{cite web|url=https://ssd.jpl.nasa.gov/horizons_batch.cgi?batch=1&COMMAND=%27499%27&START_TIME=%272022-06-10%27&STOP_TIME=%272022-07-05%27&STEP_SIZE=%273%20hours%27&QUANTITIES=%2719%27|title=HORIZONS Batch call for 2022 perihelion|publisher=Solar System Dynamics Group, Jet Propulsion Laboratory |type=Perihelion occurs when rdot flips from negative to positive |access-date=2021-09-07}}</ref>\n",
      "| semimajor              = {{convert|227939200|km|mi AU|comma=gaps|abbr=on|disp=x|<br /><small>(|)</small>}}\n",
      "| eccentricity           = {{val|0.0934}}\n",
      "| period                 = {{convert|686.980|d|years|comma=gaps|abbr=on|lk=out|disp=x|<br /><small>(|; {{val|668.5991}}&nbsp;[[timekeeping on Mars|sols]])</small>}}<ref name=\"NasaFactSheet\"/>\n",
      "| synodic_period         = {{convert|779.96|d|years|comma=gaps|abbr=on|lk=out|disp=x|<br /><small>(|)</small>}}\n",
      "| avg_speed              = {{convert|24.007|km/s|km/h mph|comma=gaps|abbr=on|disp=x|<br /><small>(|)</small>}}\n",
      "| inclination            = {{ublist|class=nowrap |{{val|1.850|u=°}} to [[ecliptic]] |{{val|5.65|u=°}} to [[Sun]]'s [[equator]] |{{val|1.63|u=°}} to [[invariable plane]]<ref name=Souami_Souchay_2012/>}}\n",
      "| asc_node               = {{val|49.558|u=°}}\n",
      "| arg_peri               = {{val|286.502|u=°}}\n",
      "| mean_anomaly           = 19.412°<ref name=\"NasaFactSheet\"/>\n",
      "\n",
      "| satellites             = [[Moons of Mars|2]]\n",
      "| allsatellites          = yes\n",
      "| mean_radius            = {{convert|3389.5|±|0.2|km|mi|1|comma=gaps|abbr=on|disp=x|{{efn|name=best-fit ellipsoid}} <ref name=\"Seidelmann2007\"/><br /><small>(|)</small>}}\n",
      "| equatorial_radius      = {{convert|3396.2|±|0.1|km|mi|1|comma=gaps|abbr=on|disp=x|{{efn|name=best-fit ellipsoid}} <ref name=\"Seidelmann2007\"/><br /><small>(|; 0.533 Earths)</small>}}\n",
      "| polar_radius           = {{convert|3376.2|±|0.1|km|mi|1|comma=gaps|abbr=on|disp=x|{{efn|name=best-fit ellipsoid}} <ref name=\"Seidelmann2007\"/><br /><small>(|; 0.531 Earths)</small>}}\n",
      "| flattening             = {{val|0.00589|0.00015}} <!-- calculated from data in ref name=\"Seidelmann2007\" -->\n",
      "| surface_area           = {{convert|144.37e6|km2|sqmi|comma=gaps|abbr=on|disp=x|<ref>{{cite book|first1=Peter|last1=Grego|title=Mars and How to Observe It |url=https://archive.org/details/marshowtoobserve0000greg|url-access=registration|page=[https://archive.org/details/marshowtoobserve0000greg/page/3 3]|publisher=[[Springer Science+Business Media]]|date=6 June 2012|isbn=978-1-4614-2302-7|via=Internet Archive}}</ref><br /><small>(|; 0.284 Earths<!--144,371,391 km2 in [http://www.peeep.us/7437231b]-->)</small>}}\n",
      "| volume                 = {{val|1.63118|e=11|u=km3}}<ref name=lodders1998/><br /><small>(0.151 Earths)</small>\n",
      "| mass                   = {{val|6.4171|e=23|u=kg}}<ref name=konopliv2011/><br /><small>(0.107 Earths)</small>\n",
      "| density                = {{convert|3.9335|g/cm3|lb/cuin|4|comma=gaps|abbr=on|disp=x|<ref name=\"lodders1998\"/><br /><small>(|)</small>}}\n",
      "| surface_grav           = {{convert|3.72076|m/s2|ft/s2|comma=gaps|abbr=on|disp=x|<ref name=\"Hirt2012\">{{Cite journal|title=Kilometer-resolution gravity field of Mars: MGM2011|journal=Planetary and Space Science|last1=Hirt|first1=C.|last2=Claessens|first2=S. J.|last3=Kuhn|first3=M.|last4=Featherstone|first4=W. E.|volume=67|issue=1|pages=147–154|date=July 2012|doi=10.1016/j.pss.2012.02.006 |bibcode=2012P&SS...67..147H|hdl=20.500.11937/32270|url=https://espace.curtin.edu.au/bitstream/20.500.11937/32270/2/173469_Hirt2012_MGM2011_PSS_av%5b1%5d%20updated.pdf|hdl-access=free}}</ref><br /><small>(|; 0.3794&nbsp;''[[g-force|g]]'')</small>}}\n",
      "| moment_of_inertia_factor = {{val|0.3644|0.0005}}<ref name=\"konopliv2011\"/>\n",
      "| escape_velocity        = {{convert|5.027|km/s|km/h mph|comma=gaps|abbr=on|disp=x|<br /><small>(|)</small>}}\n",
      "| rotation = {{val|1.02749125|u=day}}<ref>{{cite web |last1=Allison |first1=Michael |last2=Schmunk |first2=Robert |title=Mars24 Sunclock — Time on Mars |url=https://www.giss.nasa.gov/tools/mars24/help/notes.html |website=NASA GISS}}</ref><br /> {{RA|24|39|36}}\n",
      "| sidereal_day           = {{val|1.025957|u=day}}<br />{{RA|24|37|22.7}}<ref name=\"lodders1998\"/>\n",
      "| rot_velocity           = {{convert|868.22|km/h|m/s km/h mph|order=out|comma=gaps|abbr=on|disp=x|<br /><small>(|)</small>}}\n",
      "| axial_tilt             = {{val|25.19|u=°}} to its orbital plane<ref name=\"NasaFactSheet\"/>\n",
      "| right_asc_north_pole   = {{val|317.68143|u=°}}<br />{{RA|21|10|44}}\n",
      "| declination            = {{val|52.88650|u=°}}\n",
      "| albedo                 = {{ublist|class=nowrap |0.170 [[Geometric albedo|geometric]]<ref name=\"MallamaMars\" /> |0.25 [[Bond albedo|Bond]]<ref name=\"NasaFactSheet\"/>}}\n",
      "| temp_name1             = [[Kelvin]]\n",
      "| min_temp_1             = 130&nbsp;K\n",
      "| mean_temp_1            = 210&nbsp;K<ref name=\"NasaFactSheet\"/>\n",
      "| max_temp_1             = 308&nbsp;K\n",
      "| temp_name2             = [[Celsius]]\n",
      "| min_temp_2             = −143&nbsp;°C<ref name=cold>{{cite web|url=http://www.astronomycafe.net/qadir/q2681.html|title=What is the typical temperature on Mars?|work=Astronomycafe.net|access-date=14 August 2012}}</ref>\n",
      "| mean_temp_2            = −63&nbsp;°C\n",
      "| max_temp_2             = 35&nbsp;°C<ref name=hot>{{cite web|url=http://marsrover.nasa.gov/spotlight/20070612.html|title=Mars Exploration Rover Mission: Spotlight|work=Marsrover.nasa.gov|date=12 June 2007 |access-date=14 August 2012|archive-url=https://web.archive.org/web/20131102112312/http://marsrover.nasa.gov/spotlight/20070612.html|archive-date=2 November 2013|url-status=dead}} {{PD-notice}}</ref>\n",
      "| temp_name3             = [[Fahrenheit]]\n",
      "| min_temp_3             = −226&nbsp;°F<ref name=cold/>\n",
      "| mean_temp_3            = −82&nbsp;°F\n",
      "| max_temp_3             = 95&nbsp;°F<ref name=hot/>\n",
      "| surface_equivalent_dose_rate = {{convert |0.64 |mSv/d |μSv/h |disp=out}}<ref name=\"surface-radiation\">{{Cite journal |vauthors=Hassler DM, Zeitlin C, Wimmer-Schweingruber RF, Ehresmann B, Rafkin S, Eigenbrode JL, Brinza DE, Weigle G, Böttcher S, Böhm E, Burmeister S |author-link6=Jennifer Eigenbrode|display-authors=6 |date=2014-01-24 |title=Mars' Surface Radiation Environment Measured with the Mars Science Laboratory's Curiosity Rover |url=https://www.science.org/doi/10.1126/science.1244797 |url-access=subscription |journal=Science |volume=343 |issue=6169 |doi=10.1126/science.1244797 |pmid=24324275 |bibcode=2014Sci...343D.386H |hdl=1874/309142 |s2cid=33661472 |at=Tables 1 and 2}}</ref>\n",
      "| surface_absorbed_dose_rate = {{convert |0.210 |mGy/d |μGy/h |disp=out}}<ref name=\"surface-radiation\"/>\n",
      "| magnitude              = −2.94 to +1.86<ref name=\"Mallama_and_Hilton\"/>\n",
      "| angular_size           = 3.5–25.1″<ref name=\"NasaFactSheet\"/>\n",
      "| atmosphere_ref         = <ref name=\"NasaFactSheet\"/><ref name=\"barlow08\"/>\n",
      "| surface_pressure       = 0.636 (0.4–0.87)&nbsp;[[pascal (unit)|kPa]]<br />0.00628&nbsp;[[atmosphere (unit)|atm]]\n",
      "| atmosphere_composition = {{plainlist|\n",
      "* 95.97% [[carbon dioxide]]\n",
      "* 1.93% [[argon]]\n",
      "* 1.89% [[nitrogen]]\n",
      "* 0.146% [[oxygen]]\n",
      "* 0.0557% [[carbon monoxide]]\n",
      "* 0.0210% [[water vapor]]\n",
      "* 0.0100% [[nitrogen oxide]]\n",
      "* 0.00025% [[neon]]\n",
      "* 0.00008% [[semiheavy water|hydrogen deuterium oxide]]\n",
      "* 0.00003% [[krypton]]\n",
      "* 0.00001% [[xenon]]\n",
      "}}\n",
      "}}\n",
      "\n",
      "'''Mars''' is the fourth [[planet]] from the [[Sun]] and the second-smallest planet in the [[Solar System]], being larger than only [[Mercury (planet)|Mercury]]. In English, Mars carries the name of the [[Mars (mythology)|Roman god of war]] and is often referred to as the \"'''Red Planet'''\".<ref name=\"Zubrin1997\">{{cite book|title=The Case for Mars: The Plan to Settle the Red Planet and Why We Must |publisher=Touchstone|location=New York|first1=Robert|last1=Zubrin|first2=Richard|last2=Wagner|date=1997|oclc=489144963|isbn=978-0-684-83550-1|url-access=registration |url=https://archive.org/details/caseformarsplant00zubr}}</ref><ref name=\"Rees2012\">{{cite book|title=Universe: The Definitive Visual Guide|publisher=Dorling Kindersley|location=New York|editor-first=Martin J. |editor-last=Rees|pages=160–161|date=October 2012|isbn=978-0-7566-9841-6}}</ref> The latter refers to the effect of the [[Iron(III) oxide|iron \n"
     ]
    }
   ],
   "source": [
    "import requests\n",
    "\n",
    "endpoint = \"https://en.wikipedia.org/w/rest.php/v1/page/Mars\"\n",
    "response = requests.get(endpoint)\n",
    "page_results = response.json()\n",
    "print(page_results[\"source\"][:10000]) #use slicing to print only 10000 characters\n"
   ]
  },
  {
   "cell_type": "markdown",
   "id": "2f24c769",
   "metadata": {},
   "source": [
    "## Group Activity Problem 5\n",
    "\n",
    "This format that Wikipedia uses to store the text of its articles is called __wikitext__. Discuss: how does wikitext indicate a link to another wikipedia article?"
   ]
  },
  {
   "cell_type": "markdown",
   "id": "50431cb3",
   "metadata": {},
   "source": [
    "## Group Activity Problem 6\n",
    "\n",
    "Here's a function that will allow you to pass in some wikitext as an argument. It returns a list of the titles of all the articles that this wikitext links to (at least, it is supposed to - feel free to fix any bugs you find). Add this function to your `.py` file, and then call it, passing the wikitext for the Mars article. Print out the results to make sure you're getting a list of linked pages from the Mars article."
   ]
  },
  {
   "cell_type": "code",
   "execution_count": null,
   "id": "a50515e2",
   "metadata": {},
   "outputs": [],
   "source": [
    "def get_page_links(wikitext):\n",
    "    \"\"\"\n",
    "    Get a list of all Wikipedia pages linked to from some wikitext\n",
    "    \n",
    "    Paremeters:\n",
    "        wikitext: a string with some wikitext\n",
    "        \n",
    "    Returns:\n",
    "        a list of the titles of all Wikipedia pages that are linked to\n",
    "        from the provided wikitext\n",
    "    \"\"\"\n",
    "    list_of_linked_pages = []\n",
    "    i = 0\n",
    "    while i < len(wikitext):\n",
    "        #is this the start of a wiki link?\n",
    "        if wikitext[i:i+2] == \"[[\":\n",
    "            \n",
    "            i = i+2\n",
    "            linked_page_name = \"\" #accumulator string\n",
    "            \n",
    "            #keep adding on to the accumulator string until we see a\n",
    "            # | or ] which will indicate we've reached the end of the\n",
    "            # linked page's name\n",
    "            while wikitext[i] != '|' and wikitext[i] != ']':\n",
    "                linked_page_name += wikitext[i]\n",
    "                i += 1\n",
    "            \n",
    "            list_of_linked_pages.append(linked_page_name)\n",
    "                \n",
    "        #move on to the next character\n",
    "        else:\n",
    "            i += 1\n",
    "    return list_of_linked_pages"
   ]
  },
  {
   "cell_type": "markdown",
   "id": "ea7678b3",
   "metadata": {},
   "source": [
    "## Group Activity Problem 7\n",
    "\n",
    "Write a program that uses the `get_page_links` function. It should ask the user to input the name of a Wikipedia article and then display the first 10 links from that page (hint: call `get_page_links` and then write a loop to display the first 10 results from the list). Allow the user to select another page based on those results and repeat. Here's an example of what the program's output could look like:\n",
    "\n",
    "```\n",
    "Enter a wikipedia page title (-1 to quit): Mars\n",
    "\n",
    "Here are the first 10 articles linked from Mars:\n",
    "0 File:Mars symbol (bold).svg\n",
    "1 Rosetta (spacecraft)\n",
    "2 Optical, Spectroscopic, and Infrared Remote Imaging System\n",
    "3 Aeolis quadrangle\n",
    "4 Gale (crater)\n",
    "5 Curiosity (rover)\n",
    "6 Terra Cimmeria\n",
    "7 Elysium Planitia\n",
    "8 Water on Mars\n",
    "9 Martian\n",
    "Enter a number 0-9 for one of these articles (-1 to quit): 5\n",
    "\n",
    "Here are the first 10 articles linked from Curiosity (rover):\n",
    "0 Mars Science Laboratory\n",
    "1 Self-portrait\n",
    "2 Mount Sharp\n",
    "3 Mars rover\n",
    "4 NASA\n",
    "5 Jet Propulsion Laboratory\n",
    "6 Ultra high frequency\n",
    "7 Hertz\n",
    "8 Data-rate units\n",
    "9 X band\n",
    "Enter a number 0-9 for one of these articles (-1 to quit): 2\n",
    "\n",
    "Here are the first 10 articles linked from Mount Sharp:\n",
    "0 Curiosity (rover)\n",
    "1 Gale crater\n",
    "2 Mars\n",
    "3 NASA\n",
    "4 Aeolis quadrangle\n",
    "5 Robert P. Sharp\n",
    "6 Mars\n",
    "7 Gale (crater)\n",
    "8 United States Geological Survey\n",
    "9 Curiosity (rover)\n",
    "Enter a number 0-9 for one of these articles (-1 to quit): 8\n",
    "\n",
    "Here are the first 10 articles linked from United States Geological Survey:\n",
    "0 John Wesley Powell\n",
    "1 Reston, Virginia\n",
    "2 United States\n",
    "3 United States dollar\n",
    "4 United States Department of the Interior\n",
    "5 government agency\n",
    "6 Federal government of the United States\n",
    "7 scientist\n",
    "8 landscape\n",
    "9 United States\n",
    "Enter a number 0-9 for one of these articles (-1 to quit): -1\n",
    "```"
   ]
  },
  {
   "cell_type": "code",
   "execution_count": null,
   "id": "c04ff3d0",
   "metadata": {},
   "outputs": [],
   "source": []
  }
 ],
 "metadata": {
  "celltoolbar": "Slideshow",
  "kernelspec": {
   "display_name": "Python 3 (ipykernel)",
   "language": "python",
   "name": "python3"
  },
  "language_info": {
   "codemirror_mode": {
    "name": "ipython",
    "version": 3
   },
   "file_extension": ".py",
   "mimetype": "text/x-python",
   "name": "python",
   "nbconvert_exporter": "python",
   "pygments_lexer": "ipython3",
   "version": "3.10.2"
  },
  "varInspector": {
   "cols": {
    "lenName": 16,
    "lenType": 16,
    "lenVar": 40
   },
   "kernels_config": {
    "python": {
     "delete_cmd_postfix": "",
     "delete_cmd_prefix": "del ",
     "library": "var_list.py",
     "varRefreshCmd": "print(var_dic_list())"
    },
    "r": {
     "delete_cmd_postfix": ") ",
     "delete_cmd_prefix": "rm(",
     "library": "var_list.r",
     "varRefreshCmd": "cat(var_dic_list()) "
    }
   },
   "types_to_exclude": [
    "module",
    "function",
    "builtin_function_or_method",
    "instance",
    "_Feature"
   ],
   "window_display": false
  }
 },
 "nbformat": 4,
 "nbformat_minor": 5
}
